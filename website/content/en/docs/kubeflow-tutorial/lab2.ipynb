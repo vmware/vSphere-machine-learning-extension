{
 "cells": [
  {
   "cell_type": "markdown",
   "id": "a93eff1b-2bb9-4290-9902-f9ac0635f350",
   "metadata": {},
   "source": [
    "## Instructions\n",
    "\n",
    "This is an end-to-end sample machine learning workflow purely written in Jupyter Notebook, you will create a classifier to distinguish span emails (junk, unsolicited bulk or commercial messages) from han (non-spam) emails.\n",
    "\n",
    "It aims to help us get familiar with Jupyter Notebook, and some common library used by data scientist (i.e. pandas, matplotlib, sk-learn)\n",
    "\n",
    "1. The dataset is publicly available https://www.kaggle.com/competitions/ds100fa19, which is originally a course project for UC Berkeley Data 100 course [Principles and Techniques of Data Science](https://ds100.org/).\n",
    "2. We can complete this lab in any Jupyter Lab or Jupyter Notebooks locally. (Not necessary in Kubeflow)\n",
    "3. Press `Shift + Enter` to execute a cell and print result"
   ]
  },
  {
   "cell_type": "code",
   "execution_count": 44,
   "id": "863990b7-f89c-4fdc-ad33-2bb9936b8f16",
   "metadata": {},
   "outputs": [
    {
     "name": "stdout",
     "output_type": "stream",
     "text": [
      "Looking in indexes: https://pypi.tuna.tsinghua.edu.cn/simple\n",
      "Requirement already satisfied: pandas in /Users/jinhengxu/opt/anaconda3/lib/python3.9/site-packages (1.4.3)\n",
      "Requirement already satisfied: python-dateutil>=2.8.1 in /Users/jinhengxu/opt/anaconda3/lib/python3.9/site-packages (from pandas) (2.8.2)\n",
      "Requirement already satisfied: pytz>=2020.1 in /Users/jinhengxu/opt/anaconda3/lib/python3.9/site-packages (from pandas) (2022.1)\n",
      "Requirement already satisfied: numpy>=1.18.5 in /Users/jinhengxu/opt/anaconda3/lib/python3.9/site-packages (from pandas) (1.23.0)\n",
      "Requirement already satisfied: six>=1.5 in /Users/jinhengxu/opt/anaconda3/lib/python3.9/site-packages (from python-dateutil>=2.8.1->pandas) (1.16.0)\n",
      "Looking in indexes: https://pypi.tuna.tsinghua.edu.cn/simple\n",
      "Requirement already satisfied: matplotlib in /Users/jinhengxu/opt/anaconda3/lib/python3.9/site-packages (3.6.0)\n",
      "Requirement already satisfied: packaging>=20.0 in /Users/jinhengxu/opt/anaconda3/lib/python3.9/site-packages (from matplotlib) (21.3)\n",
      "Requirement already satisfied: kiwisolver>=1.0.1 in /Users/jinhengxu/opt/anaconda3/lib/python3.9/site-packages (from matplotlib) (1.4.4)\n",
      "Requirement already satisfied: numpy>=1.19 in /Users/jinhengxu/opt/anaconda3/lib/python3.9/site-packages (from matplotlib) (1.23.0)\n",
      "Requirement already satisfied: pyparsing>=2.2.1 in /Users/jinhengxu/opt/anaconda3/lib/python3.9/site-packages (from matplotlib) (3.0.4)\n",
      "Requirement already satisfied: pillow>=6.2.0 in /Users/jinhengxu/opt/anaconda3/lib/python3.9/site-packages (from matplotlib) (9.0.1)\n",
      "Requirement already satisfied: cycler>=0.10 in /Users/jinhengxu/opt/anaconda3/lib/python3.9/site-packages (from matplotlib) (0.11.0)\n",
      "Requirement already satisfied: contourpy>=1.0.1 in /Users/jinhengxu/opt/anaconda3/lib/python3.9/site-packages (from matplotlib) (1.0.5)\n",
      "Requirement already satisfied: fonttools>=4.22.0 in /Users/jinhengxu/opt/anaconda3/lib/python3.9/site-packages (from matplotlib) (4.37.4)\n",
      "Requirement already satisfied: python-dateutil>=2.7 in /Users/jinhengxu/opt/anaconda3/lib/python3.9/site-packages (from matplotlib) (2.8.2)\n",
      "Requirement already satisfied: six>=1.5 in /Users/jinhengxu/opt/anaconda3/lib/python3.9/site-packages (from python-dateutil>=2.7->matplotlib) (1.16.0)\n",
      "Looking in indexes: https://pypi.tuna.tsinghua.edu.cn/simple\n",
      "Requirement already satisfied: sklearn in /Users/jinhengxu/opt/anaconda3/lib/python3.9/site-packages (0.0)\n",
      "Requirement already satisfied: scikit-learn in /Users/jinhengxu/opt/anaconda3/lib/python3.9/site-packages (from sklearn) (1.1.2)\n",
      "Requirement already satisfied: joblib>=1.0.0 in /Users/jinhengxu/opt/anaconda3/lib/python3.9/site-packages (from scikit-learn->sklearn) (1.2.0)\n",
      "Requirement already satisfied: numpy>=1.17.3 in /Users/jinhengxu/opt/anaconda3/lib/python3.9/site-packages (from scikit-learn->sklearn) (1.23.0)\n",
      "Requirement already satisfied: threadpoolctl>=2.0.0 in /Users/jinhengxu/opt/anaconda3/lib/python3.9/site-packages (from scikit-learn->sklearn) (3.1.0)\n",
      "Requirement already satisfied: scipy>=1.3.2 in /Users/jinhengxu/opt/anaconda3/lib/python3.9/site-packages (from scikit-learn->sklearn) (1.9.1)\n",
      "Looking in indexes: https://pypi.tuna.tsinghua.edu.cn/simple\n",
      "Requirement already satisfied: numpy in /Users/jinhengxu/opt/anaconda3/lib/python3.9/site-packages (1.23.0)\n"
     ]
    }
   ],
   "source": [
    "%%bash\n",
    "\n",
    "# install libraries we will use\n",
    "pip install pandas\n",
    "pip install matplotlib\n",
    "pip install sklearn\n",
    "pip install numpy"
   ]
  },
  {
   "cell_type": "markdown",
   "id": "327aa12b-f17c-42cb-ac90-97e4c54924c7",
   "metadata": {},
   "source": [
    "## 1. Data collection\n",
    "\n",
    "Please visit the Kaggle website https://www.kaggle.com/competitions/ds100fa19/data, click **Join Competition**, and then download the dataset. We only need training set `train.csv` for our purpose, since there is no `spam` label in `test.csv`.\n",
    "\n",
    "This is the introduction of the data:\n",
    "1. `id`: An identifier for the training example\n",
    "2. `subject`: The subject of the email\n",
    "3. `email`: The text of the email\n",
    "4. `spam`: 1 if the email is spam, 0 if the email is ham (not spam)"
   ]
  },
  {
   "cell_type": "code",
   "execution_count": 45,
   "id": "6e311a3b-af17-4a22-b7eb-ff50bfdb0959",
   "metadata": {},
   "outputs": [
    {
     "data": {
      "text/html": [
       "<div>\n",
       "<style scoped>\n",
       "    .dataframe tbody tr th:only-of-type {\n",
       "        vertical-align: middle;\n",
       "    }\n",
       "\n",
       "    .dataframe tbody tr th {\n",
       "        vertical-align: top;\n",
       "    }\n",
       "\n",
       "    .dataframe thead th {\n",
       "        text-align: right;\n",
       "    }\n",
       "</style>\n",
       "<table border=\"1\" class=\"dataframe\">\n",
       "  <thead>\n",
       "    <tr style=\"text-align: right;\">\n",
       "      <th></th>\n",
       "      <th>id</th>\n",
       "      <th>subject</th>\n",
       "      <th>email</th>\n",
       "      <th>spam</th>\n",
       "    </tr>\n",
       "  </thead>\n",
       "  <tbody>\n",
       "    <tr>\n",
       "      <th>0</th>\n",
       "      <td>0</td>\n",
       "      <td>Subject: A&amp;L Daily to be auctioned in bankrupt...</td>\n",
       "      <td>URL: http://boingboing.net/#85534171\\n Date: N...</td>\n",
       "      <td>0</td>\n",
       "    </tr>\n",
       "    <tr>\n",
       "      <th>1</th>\n",
       "      <td>1</td>\n",
       "      <td>Subject: Wired: \"Stronger ties between ISPs an...</td>\n",
       "      <td>URL: http://scriptingnews.userland.com/backiss...</td>\n",
       "      <td>0</td>\n",
       "    </tr>\n",
       "    <tr>\n",
       "      <th>2</th>\n",
       "      <td>2</td>\n",
       "      <td>Subject: It's just too small                  ...</td>\n",
       "      <td>&lt;HTML&gt;\\n &lt;HEAD&gt;\\n &lt;/HEAD&gt;\\n &lt;BODY&gt;\\n &lt;FONT SIZ...</td>\n",
       "      <td>1</td>\n",
       "    </tr>\n",
       "    <tr>\n",
       "      <th>3</th>\n",
       "      <td>3</td>\n",
       "      <td>Subject: liberal defnitions\\n</td>\n",
       "      <td>Depends on how much over spending vs. how much...</td>\n",
       "      <td>0</td>\n",
       "    </tr>\n",
       "    <tr>\n",
       "      <th>4</th>\n",
       "      <td>4</td>\n",
       "      <td>Subject: RE: [ILUG] Newbie seeks advice - Suse...</td>\n",
       "      <td>hehe sorry but if you hit caps lock twice the ...</td>\n",
       "      <td>0</td>\n",
       "    </tr>\n",
       "  </tbody>\n",
       "</table>\n",
       "</div>"
      ],
      "text/plain": [
       "   id                                            subject  \\\n",
       "0   0  Subject: A&L Daily to be auctioned in bankrupt...   \n",
       "1   1  Subject: Wired: \"Stronger ties between ISPs an...   \n",
       "2   2  Subject: It's just too small                  ...   \n",
       "3   3                      Subject: liberal defnitions\\n   \n",
       "4   4  Subject: RE: [ILUG] Newbie seeks advice - Suse...   \n",
       "\n",
       "                                               email  spam  \n",
       "0  URL: http://boingboing.net/#85534171\\n Date: N...     0  \n",
       "1  URL: http://scriptingnews.userland.com/backiss...     0  \n",
       "2  <HTML>\\n <HEAD>\\n </HEAD>\\n <BODY>\\n <FONT SIZ...     1  \n",
       "3  Depends on how much over spending vs. how much...     0  \n",
       "4  hehe sorry but if you hit caps lock twice the ...     0  "
      ]
     },
     "execution_count": 45,
     "metadata": {},
     "output_type": "execute_result"
    }
   ],
   "source": [
    "# most widely used Python library for data anaylsis/processing\n",
    "import pandas as pd\n",
    "\n",
    "# please make sure PATH_TO_TRAIN_CSV is correct\n",
    "PATH_TO_TRAIN_CSV=\"./train.csv\"\n",
    "\n",
    "# use pandas to read data from a csv file\n",
    "email = pd.read_csv(PATH_TO_TRAIN_CSV)\n",
    "# take a look at the data\n",
    "email.head()"
   ]
  },
  {
   "cell_type": "markdown",
   "id": "805ee9db-5021-4f99-af2b-d8225d18c39a",
   "metadata": {},
   "source": [
    "## 2. Data cleaning"
   ]
  },
  {
   "cell_type": "markdown",
   "id": "5d25bb95-8648-4dd1-a21a-37d05903f9ce",
   "metadata": {},
   "source": [
    "#### 2.1 Replace missing values in text with empty string\n",
    "\n",
    "Check the number of missing values in both `subject` and `email` columns"
   ]
  },
  {
   "cell_type": "code",
   "execution_count": 46,
   "id": "de4c1c0a-32de-406d-8eb3-3fe87fbb14a7",
   "metadata": {},
   "outputs": [
    {
     "name": "stdout",
     "output_type": "stream",
     "text": [
      "6 subject contains missing values\n",
      "0 email text contains missing values\n"
     ]
    }
   ],
   "source": [
    "print(email['subject'].isnull().sum(), 'subject contains missing values')\n",
    "print(email['email'].isnull().sum(), 'email text contains missing values')"
   ]
  },
  {
   "cell_type": "markdown",
   "id": "87380378",
   "metadata": {},
   "source": [
    "Fill the missing values with empty string `''`"
   ]
  },
  {
   "cell_type": "code",
   "execution_count": 47,
   "id": "a436db36",
   "metadata": {},
   "outputs": [],
   "source": [
    "email['subject'] = email['subject'].fillna('')"
   ]
  },
  {
   "cell_type": "markdown",
   "id": "0535e858",
   "metadata": {},
   "source": [
    "Check again"
   ]
  },
  {
   "cell_type": "code",
   "execution_count": 48,
   "id": "0b8118bc",
   "metadata": {},
   "outputs": [
    {
     "name": "stdout",
     "output_type": "stream",
     "text": [
      "0 subject contains missing values\n",
      "0 email text contains missing values\n"
     ]
    }
   ],
   "source": [
    "print(email['subject'].isnull().sum(), 'subject contains missing values')\n",
    "print(email['email'].isnull().sum(), 'email text contains missing values')"
   ]
  },
  {
   "cell_type": "markdown",
   "id": "6693f0d8-fbdf-42fb-b3b5-e1ed7a6725f5",
   "metadata": {},
   "source": [
    "#### 2.2 Combine text columns\n",
    "\n",
    "To make our easier, we will combine `subject` and `email` into one `text` column"
   ]
  },
  {
   "cell_type": "code",
   "execution_count": 49,
   "id": "72000440-c997-4b53-ab74-1bd6576a7eae",
   "metadata": {},
   "outputs": [],
   "source": [
    "email['text'] = email['subject'] + '\\n' + email['email']"
   ]
  },
  {
   "cell_type": "markdown",
   "id": "71f432b1",
   "metadata": {},
   "source": [
    "Take the first piece of the email as an example, and check if our operation succeed "
   ]
  },
  {
   "cell_type": "code",
   "execution_count": 50,
   "id": "6297d5cd",
   "metadata": {},
   "outputs": [
    {
     "name": "stdout",
     "output_type": "stream",
     "text": [
      "[subject]\n",
      "Subject: A&L Daily to be auctioned in bankruptcy\n",
      "\n",
      "[email]\n",
      "URL: http://boingboing.net/#85534171\n",
      " Date: Not supplied\n",
      " \n",
      " Arts and Letters Daily, a wonderful and dense blog, has folded up its tent due \n",
      " to the bankruptcy of its parent company. A&L Daily will be auctioned off by the \n",
      " receivers. Link[1] Discuss[2] (_Thanks, Misha!_)\n",
      " \n",
      " [1] http://www.aldaily.com/\n",
      " [2] http://www.quicktopic.com/boing/H/ZLfTeRjnD6Jf\n",
      " \n",
      " \n",
      "\n",
      "[text]\n",
      "Subject: A&L Daily to be auctioned in bankruptcy\n",
      "\n",
      "URL: http://boingboing.net/#85534171\n",
      " Date: Not supplied\n",
      " \n",
      " Arts and Letters Daily, a wonderful and dense blog, has folded up its tent due \n",
      " to the bankruptcy of its parent company. A&L Daily will be auctioned off by the \n",
      " receivers. Link[1] Discuss[2] (_Thanks, Misha!_)\n",
      " \n",
      " [1] http://www.aldaily.com/\n",
      " [2] http://www.quicktopic.com/boing/H/ZLfTeRjnD6Jf\n",
      " \n",
      " \n",
      "\n"
     ]
    }
   ],
   "source": [
    "# Take the first piece of email as an example\n",
    "i = 0\n",
    "print(\"[subject]\")\n",
    "print(email['subject'][i])\n",
    "\n",
    "print(\"[email]\")\n",
    "print(email['email'][i])\n",
    "\n",
    "print(\"[text]\")\n",
    "print(email['text'][i])"
   ]
  },
  {
   "cell_type": "markdown",
   "id": "6409410a",
   "metadata": {},
   "source": [
    "We don't care about `id` column, and we don't need `subject` and `email` anymore\n",
    "\n",
    "Let's drop them"
   ]
  },
  {
   "cell_type": "code",
   "execution_count": 51,
   "id": "1b51d82f",
   "metadata": {},
   "outputs": [
    {
     "data": {
      "text/html": [
       "<div>\n",
       "<style scoped>\n",
       "    .dataframe tbody tr th:only-of-type {\n",
       "        vertical-align: middle;\n",
       "    }\n",
       "\n",
       "    .dataframe tbody tr th {\n",
       "        vertical-align: top;\n",
       "    }\n",
       "\n",
       "    .dataframe thead th {\n",
       "        text-align: right;\n",
       "    }\n",
       "</style>\n",
       "<table border=\"1\" class=\"dataframe\">\n",
       "  <thead>\n",
       "    <tr style=\"text-align: right;\">\n",
       "      <th></th>\n",
       "      <th>spam</th>\n",
       "      <th>text</th>\n",
       "    </tr>\n",
       "  </thead>\n",
       "  <tbody>\n",
       "    <tr>\n",
       "      <th>0</th>\n",
       "      <td>0</td>\n",
       "      <td>Subject: A&amp;L Daily to be auctioned in bankrupt...</td>\n",
       "    </tr>\n",
       "    <tr>\n",
       "      <th>1</th>\n",
       "      <td>0</td>\n",
       "      <td>Subject: Wired: \"Stronger ties between ISPs an...</td>\n",
       "    </tr>\n",
       "    <tr>\n",
       "      <th>2</th>\n",
       "      <td>1</td>\n",
       "      <td>Subject: It's just too small                  ...</td>\n",
       "    </tr>\n",
       "    <tr>\n",
       "      <th>3</th>\n",
       "      <td>0</td>\n",
       "      <td>Subject: liberal defnitions\\n\\nDepends on how ...</td>\n",
       "    </tr>\n",
       "    <tr>\n",
       "      <th>4</th>\n",
       "      <td>0</td>\n",
       "      <td>Subject: RE: [ILUG] Newbie seeks advice - Suse...</td>\n",
       "    </tr>\n",
       "  </tbody>\n",
       "</table>\n",
       "</div>"
      ],
      "text/plain": [
       "   spam                                               text\n",
       "0     0  Subject: A&L Daily to be auctioned in bankrupt...\n",
       "1     0  Subject: Wired: \"Stronger ties between ISPs an...\n",
       "2     1  Subject: It's just too small                  ...\n",
       "3     0  Subject: liberal defnitions\\n\\nDepends on how ...\n",
       "4     0  Subject: RE: [ILUG] Newbie seeks advice - Suse..."
      ]
     },
     "execution_count": 51,
     "metadata": {},
     "output_type": "execute_result"
    }
   ],
   "source": [
    "email.drop(['id', 'subject', 'email'], axis=1, inplace=True)\n",
    "email.head()"
   ]
  },
  {
   "cell_type": "markdown",
   "id": "264962d5-c220-4b5c-a609-48ce0ed7f048",
   "metadata": {},
   "source": [
    "Now it's much clear now. \n",
    "\n",
    "Our task is to use `text` to predict `spam`."
   ]
  },
  {
   "cell_type": "markdown",
   "id": "9b0c435f",
   "metadata": {},
   "source": [
    "#### 2.3 A little preprocessing\n",
    "\n",
    "A word with capital letters or lowercase letters are different in terms of computer character encoding, but they all have the same meaning. \n",
    "\n",
    "We will convert all string to lowercase."
   ]
  },
  {
   "cell_type": "code",
   "execution_count": 52,
   "id": "5873a249",
   "metadata": {},
   "outputs": [
    {
     "data": {
      "text/html": [
       "<div>\n",
       "<style scoped>\n",
       "    .dataframe tbody tr th:only-of-type {\n",
       "        vertical-align: middle;\n",
       "    }\n",
       "\n",
       "    .dataframe tbody tr th {\n",
       "        vertical-align: top;\n",
       "    }\n",
       "\n",
       "    .dataframe thead th {\n",
       "        text-align: right;\n",
       "    }\n",
       "</style>\n",
       "<table border=\"1\" class=\"dataframe\">\n",
       "  <thead>\n",
       "    <tr style=\"text-align: right;\">\n",
       "      <th></th>\n",
       "      <th>spam</th>\n",
       "      <th>text</th>\n",
       "    </tr>\n",
       "  </thead>\n",
       "  <tbody>\n",
       "    <tr>\n",
       "      <th>0</th>\n",
       "      <td>0</td>\n",
       "      <td>subject: a&amp;l daily to be auctioned in bankrupt...</td>\n",
       "    </tr>\n",
       "    <tr>\n",
       "      <th>1</th>\n",
       "      <td>0</td>\n",
       "      <td>subject: wired: \"stronger ties between isps an...</td>\n",
       "    </tr>\n",
       "    <tr>\n",
       "      <th>2</th>\n",
       "      <td>1</td>\n",
       "      <td>subject: it's just too small                  ...</td>\n",
       "    </tr>\n",
       "    <tr>\n",
       "      <th>3</th>\n",
       "      <td>0</td>\n",
       "      <td>subject: liberal defnitions\\n\\ndepends on how ...</td>\n",
       "    </tr>\n",
       "    <tr>\n",
       "      <th>4</th>\n",
       "      <td>0</td>\n",
       "      <td>subject: re: [ilug] newbie seeks advice - suse...</td>\n",
       "    </tr>\n",
       "  </tbody>\n",
       "</table>\n",
       "</div>"
      ],
      "text/plain": [
       "   spam                                               text\n",
       "0     0  subject: a&l daily to be auctioned in bankrupt...\n",
       "1     0  subject: wired: \"stronger ties between isps an...\n",
       "2     1  subject: it's just too small                  ...\n",
       "3     0  subject: liberal defnitions\\n\\ndepends on how ...\n",
       "4     0  subject: re: [ilug] newbie seeks advice - suse..."
      ]
     },
     "execution_count": 52,
     "metadata": {},
     "output_type": "execute_result"
    }
   ],
   "source": [
    "email['text'] = email['text'].str.lower()\n",
    "\n",
    "email.head()"
   ]
  },
  {
   "cell_type": "markdown",
   "id": "801a9cfc",
   "metadata": {},
   "source": [
    "## 3. Traning Validation Split\n",
    "\n",
    "We will use the training data for both `model training` and `validating`. So we will split the data into two parts called `training set` and `validation set`"
   ]
  },
  {
   "cell_type": "code",
   "execution_count": 53,
   "id": "4fc8506e",
   "metadata": {},
   "outputs": [
    {
     "name": "stdout",
     "output_type": "stream",
     "text": [
      "      spam                                               text\n",
      "0        0  subject: acopia networks?\\n\\nyet another pre-i...\n",
      "1        0  subject: the walls are alive with the sound of...\n",
      "2        1  subject: (no subject)\\n\\n\\n <!doctype html pub...\n",
      "3        0  subject: ms's palladium: what the hell is it? ...\n",
      "4        1  subject: ruin anyone anywhere anything\\n\\ni ha...\n",
      "...    ...                                                ...\n",
      "5588     0  subject: [spambayes] understanding high false ...\n",
      "5589     1  subject: reach millions on the internet!!\\n\\n\\...\n",
      "5590     0  subject: facts about sex.\\n\\n\\n forwarded-by: ...\n",
      "5591     0  subject: re: zoot apt/openssh & new dvd playin...\n",
      "5592     0  subject: re: internet radio - example from a c...\n",
      "\n",
      "[5593 rows x 2 columns]\n",
      "      spam                                               text\n",
      "0        0  subject: re: my brain hurts\\n\\n> someone tell ...\n",
      "1        0  subject: re: [fwd: error exmh 2.5 07/13/2001 ]...\n",
      "2        0  subject: re: [ilug] how to copy some files\\n\\n...\n",
      "3        0  subject: re: opengl\\n\\non thu, 1 aug 2002 17:1...\n",
      "4        0  subject: re: req: falcon's eye\\n\\non tue, jul ...\n",
      "...    ...                                                ...\n",
      "2750     1  subject: free adult dvd!!! 9we-hbi\\n\\nbuy 2 ad...\n",
      "2751     0  subject: re: selling wedded bliss (was re: ouc...\n",
      "2752     0  subject: [use perl] headlines for 2002-10-08\\n...\n",
      "2753     0  subject: re: advice on 7.3.92 to 7.3.93, and a...\n",
      "2754     0  subject: if it's too loud, you're too french\\n...\n",
      "\n",
      "[2755 rows x 2 columns]\n"
     ]
    }
   ],
   "source": [
    "from sklearn.model_selection import train_test_split\n",
    "\n",
    "training_set, validation_set = train_test_split(email, test_size=0.33, random_state=42)\n",
    "\n",
    "# reset index from 0 to len - 1\n",
    "training_set.reset_index(drop=True, inplace=True)\n",
    "validation_set.reset_index(drop=True, inplace=True)\n",
    "\n",
    "print(training_set)\n",
    "\n",
    "print(validation_set)"
   ]
  },
  {
   "cell_type": "markdown",
   "id": "df97c8cf",
   "metadata": {},
   "source": [
    "From now on, we will not touch `validation set` anymore until the we use `validation set` to assess the performance of our classifier."
   ]
  },
  {
   "cell_type": "markdown",
   "id": "0b11be54-72de-4a40-802a-28e301c1de42",
   "metadata": {},
   "source": [
    "## 4. Exploratory Data Analysis (EDA)"
   ]
  },
  {
   "cell_type": "markdown",
   "id": "5baa7bfa-6921-4841-9072-c64f9f612184",
   "metadata": {},
   "source": [
    "#### 4.1 The basic statistics"
   ]
  },
  {
   "cell_type": "code",
   "execution_count": 54,
   "id": "8a51c508-7949-4805-aeee-689b69851a16",
   "metadata": {},
   "outputs": [
    {
     "name": "stdout",
     "output_type": "stream",
     "text": [
      "There are 5593 emails\n",
      "Positive samples: 1432 emails\n",
      "Negative samples: 4161 emails\n"
     ]
    }
   ],
   "source": [
    "# total number\n",
    "print('There are', len(training_set), 'emails')\n",
    "# Positive sample: spam email\n",
    "print('Positive samples:', training_set['spam'].value_counts()[1], 'emails')\n",
    "# Negative sample: ham email\n",
    "print('Negative samples:', training_set['spam'].value_counts()[0], 'emails')"
   ]
  },
  {
   "cell_type": "markdown",
   "id": "6b8268bf-ae08-428b-beb0-627c3524f367",
   "metadata": {},
   "source": [
    "#### 4.2 Text length distribution"
   ]
  },
  {
   "cell_type": "code",
   "execution_count": 55,
   "id": "aff32297-5c14-4fa7-b117-0f83e395ecd5",
   "metadata": {},
   "outputs": [
    {
     "data": {
      "text/plain": [
       "<AxesSubplot: ylabel='Frequency'>"
      ]
     },
     "execution_count": 55,
     "metadata": {},
     "output_type": "execute_result"
    },
    {
     "data": {
      "image/png": "[encoded data removed]",
      "text/plain": [
       "<Figure size 432x288 with 1 Axes>"
      ]
     },
     "metadata": {
      "needs_background": "light"
     },
     "output_type": "display_data"
    }
   ],
   "source": [
    "training_set['text_length'] = training_set['text'].str.len()\n",
    "training_set['text_length'].plot.hist(bins=1000)"
   ]
  },
  {
   "cell_type": "markdown",
   "id": "b7ed1a9d-995d-4922-ab0f-54428a945b83",
   "metadata": {},
   "source": [
    "#### 4.3 Text length distribution by classes"
   ]
  },
  {
   "cell_type": "code",
   "execution_count": 56,
   "id": "194994ff-054c-4ab4-bc0a-2f008d877c50",
   "metadata": {},
   "outputs": [
    {
     "data": {
      "image/png": "[encoded data removed]",
      "text/plain": [
       "<Figure size 432x288 with 1 Axes>"
      ]
     },
     "metadata": {
      "needs_background": "light"
     },
     "output_type": "display_data"
    }
   ],
   "source": [
    "import matplotlib.pyplot as plt\n",
    "%matplotlib inline\n",
    "\n",
    "spam_text_length = training_set.loc[training_set.spam==1, 'text_length']\n",
    "ham_text_length = training_set.loc[training_set.spam==0, 'text_length']\n",
    "\n",
    "plt.hist(spam_text_length, alpha=0.5, density=True, bins=1500, color='red', label='spam')\n",
    "plt.hist(ham_text_length, alpha=0.5, density=True, bins=1500, color='blue', label='ham')\n",
    "\n",
    "plt.gca().set(title='Text Length Distribution', ylabel='Frequency')\n",
    "plt.xlim(0,10000)\n",
    "plt.legend();                   "
   ]
  },
  {
   "cell_type": "markdown",
   "id": "a608fd89-d0b5-4714-973d-84141f8e1d5a",
   "metadata": {},
   "source": [
    "It seems `spam` email is generally longer than `ham` email"
   ]
  },
  {
   "cell_type": "markdown",
   "id": "740b675d-2e9b-4a84-a440-f3c93e0590b7",
   "metadata": {},
   "source": [
    "#### 4.4 High frequency words"
   ]
  },
  {
   "cell_type": "markdown",
   "id": "004570d8-1acf-4cab-b04a-879934e14b1f",
   "metadata": {},
   "source": [
    "Let's see what kinds of words appear most frequently in `spam` email"
   ]
  },
  {
   "cell_type": "code",
   "execution_count": 57,
   "id": "cbf3aafc-8741-4056-b0de-c1653e9c932f",
   "metadata": {},
   "outputs": [
    {
     "data": {
      "text/plain": [
       "the      15103\n",
       "to       14451\n",
       "and      10718\n",
       "of        9179\n",
       "you       8899\n",
       "a         7314\n",
       "=         6242\n",
       "your      6205\n",
       "for       6179\n",
       "<td       5784\n",
       "in        5488\n",
       "this      5084\n",
       "is        5041\n",
       "</tr>     3494\n",
       "that      3021\n",
       "i         3008\n",
       "with      2988\n",
       "or        2943\n",
       "on        2941\n",
       "are       2916\n",
       "dtype: int64"
      ]
     },
     "execution_count": 57,
     "metadata": {},
     "output_type": "execute_result"
    }
   ],
   "source": [
    "spam_email = training_set[training_set.spam==1]\n",
    "spam_email_text = spam_email['text']\n",
    "pd.Series(' '.join(spam_email_text).split()).value_counts()[:20]"
   ]
  },
  {
   "cell_type": "markdown",
   "id": "c0c286f7-7266-443d-807b-62fab18460b2",
   "metadata": {},
   "source": [
    "What kinds of words appear most frequently in `ham` email?"
   ]
  },
  {
   "cell_type": "code",
   "execution_count": 58,
   "id": "dd27a3a3-95b6-4d64-b386-895e38616389",
   "metadata": {},
   "outputs": [
    {
     "data": {
      "text/plain": [
       "the     48811\n",
       ">       38156\n",
       "to      29186\n",
       "a       22661\n",
       "and     22117\n",
       "of      21957\n",
       "in      15211\n",
       "is      13165\n",
       "for     12196\n",
       "that    11039\n",
       "i       10060\n",
       "on       8844\n",
       "it       8600\n",
       "<td      8121\n",
       "you      7677\n",
       "this     7390\n",
       "with     7101\n",
       "be       5852\n",
       "<a       5376\n",
       "as       5374\n",
       "dtype: int64"
      ]
     },
     "execution_count": 58,
     "metadata": {},
     "output_type": "execute_result"
    }
   ],
   "source": [
    "ham_email = training_set[training_set.spam==0]\n",
    "ham_email_text = ham_email['text']\n",
    "pd.Series(' '.join(ham_email_text).split()).value_counts()[:20]"
   ]
  },
  {
   "cell_type": "markdown",
   "id": "3191ea2e-ad51-4ce9-99de-6aed7d601132",
   "metadata": {},
   "source": [
    "I think some words can be great features too"
   ]
  },
  {
   "cell_type": "markdown",
   "id": "edc9d579-07b5-4413-a519-5618afd01ee1",
   "metadata": {},
   "source": [
    "## 5. Feature Extraction"
   ]
  },
  {
   "cell_type": "markdown",
   "id": "8e0c1e91-d2c3-41d9-abb0-423b1b1348c7",
   "metadata": {},
   "source": [
    "We will notice that most features come from the process of EDA (exploratory data analysis)"
   ]
  },
  {
   "cell_type": "markdown",
   "id": "5a609352-cbc3-446b-80cf-9668265d4bdc",
   "metadata": {},
   "source": [
    "#### 5.1 Feature #1: whether `text length` is shorter than `500`"
   ]
  },
  {
   "cell_type": "code",
   "execution_count": 59,
   "id": "f07f3d84-8215-48e3-891f-08ec1d8f6a45",
   "metadata": {},
   "outputs": [],
   "source": [
    "training_set['short_text'] = training_set['text_length'] < 500\n",
    "\n",
    "validation_set['short_text'] = validation_set['text'].str.len() < 500"
   ]
  },
  {
   "cell_type": "markdown",
   "id": "e8591a60-1294-4671-8504-74df1c522d08",
   "metadata": {},
   "source": [
    "#### 5.2 Feature #2: whether high frequency words appears"
   ]
  },
  {
   "cell_type": "code",
   "execution_count": 60,
   "id": "9fe73775-dda5-40f6-a211-42ab0b13e4e5",
   "metadata": {},
   "outputs": [],
   "source": [
    "high_frequency_words = [\"body\", \"business\", \"html\", \"money\"]\n",
    "\n",
    "for word in high_frequency_words:\n",
    "    training_set[word] = training_set['text'].str.contains(word)\n",
    "    validation_set[word] = validation_set['text'].str.contains(word)"
   ]
  },
  {
   "cell_type": "markdown",
   "id": "757d1cbc-1332-4063-a83e-d0669e0f487d",
   "metadata": {},
   "source": [
    "## 6. Train a model"
   ]
  },
  {
   "cell_type": "markdown",
   "id": "c078a70b",
   "metadata": {},
   "source": [
    "#### 6.1 Extract feature and labels from training set and validation set"
   ]
  },
  {
   "cell_type": "code",
   "execution_count": 61,
   "id": "b5fc1464-9cb6-4041-b71d-5dbf7eaa0099",
   "metadata": {},
   "outputs": [],
   "source": [
    "X_train = training_set[['short_text'] + high_frequency_words]\n",
    "y_train = training_set['spam']\n",
    "\n",
    "X_val = validation_set[['short_text'] + high_frequency_words]\n",
    "y_val = validation_set['spam']"
   ]
  },
  {
   "cell_type": "markdown",
   "id": "ab54a30d-ce7b-4058-9efd-7146d380e766",
   "metadata": {},
   "source": [
    "#### 6.2 Take a look at our data now"
   ]
  },
  {
   "cell_type": "code",
   "execution_count": 62,
   "id": "17a26ff8-5ccc-40e1-8881-37672f73046d",
   "metadata": {},
   "outputs": [
    {
     "data": {
      "text/html": [
       "<div>\n",
       "<style scoped>\n",
       "    .dataframe tbody tr th:only-of-type {\n",
       "        vertical-align: middle;\n",
       "    }\n",
       "\n",
       "    .dataframe tbody tr th {\n",
       "        vertical-align: top;\n",
       "    }\n",
       "\n",
       "    .dataframe thead th {\n",
       "        text-align: right;\n",
       "    }\n",
       "</style>\n",
       "<table border=\"1\" class=\"dataframe\">\n",
       "  <thead>\n",
       "    <tr style=\"text-align: right;\">\n",
       "      <th></th>\n",
       "      <th>short_text</th>\n",
       "      <th>body</th>\n",
       "      <th>business</th>\n",
       "      <th>html</th>\n",
       "      <th>money</th>\n",
       "    </tr>\n",
       "  </thead>\n",
       "  <tbody>\n",
       "    <tr>\n",
       "      <th>0</th>\n",
       "      <td>True</td>\n",
       "      <td>False</td>\n",
       "      <td>False</td>\n",
       "      <td>False</td>\n",
       "      <td>False</td>\n",
       "    </tr>\n",
       "    <tr>\n",
       "      <th>1</th>\n",
       "      <td>True</td>\n",
       "      <td>False</td>\n",
       "      <td>False</td>\n",
       "      <td>False</td>\n",
       "      <td>False</td>\n",
       "    </tr>\n",
       "    <tr>\n",
       "      <th>2</th>\n",
       "      <td>False</td>\n",
       "      <td>True</td>\n",
       "      <td>False</td>\n",
       "      <td>True</td>\n",
       "      <td>True</td>\n",
       "    </tr>\n",
       "    <tr>\n",
       "      <th>3</th>\n",
       "      <td>False</td>\n",
       "      <td>True</td>\n",
       "      <td>False</td>\n",
       "      <td>True</td>\n",
       "      <td>False</td>\n",
       "    </tr>\n",
       "    <tr>\n",
       "      <th>4</th>\n",
       "      <td>False</td>\n",
       "      <td>False</td>\n",
       "      <td>False</td>\n",
       "      <td>True</td>\n",
       "      <td>False</td>\n",
       "    </tr>\n",
       "    <tr>\n",
       "      <th>...</th>\n",
       "      <td>...</td>\n",
       "      <td>...</td>\n",
       "      <td>...</td>\n",
       "      <td>...</td>\n",
       "      <td>...</td>\n",
       "    </tr>\n",
       "    <tr>\n",
       "      <th>5588</th>\n",
       "      <td>False</td>\n",
       "      <td>False</td>\n",
       "      <td>False</td>\n",
       "      <td>False</td>\n",
       "      <td>False</td>\n",
       "    </tr>\n",
       "    <tr>\n",
       "      <th>5589</th>\n",
       "      <td>False</td>\n",
       "      <td>False</td>\n",
       "      <td>True</td>\n",
       "      <td>False</td>\n",
       "      <td>True</td>\n",
       "    </tr>\n",
       "    <tr>\n",
       "      <th>5590</th>\n",
       "      <td>False</td>\n",
       "      <td>True</td>\n",
       "      <td>False</td>\n",
       "      <td>False</td>\n",
       "      <td>False</td>\n",
       "    </tr>\n",
       "    <tr>\n",
       "      <th>5591</th>\n",
       "      <td>False</td>\n",
       "      <td>False</td>\n",
       "      <td>False</td>\n",
       "      <td>False</td>\n",
       "      <td>False</td>\n",
       "    </tr>\n",
       "    <tr>\n",
       "      <th>5592</th>\n",
       "      <td>False</td>\n",
       "      <td>False</td>\n",
       "      <td>False</td>\n",
       "      <td>False</td>\n",
       "      <td>False</td>\n",
       "    </tr>\n",
       "  </tbody>\n",
       "</table>\n",
       "<p>5593 rows × 5 columns</p>\n",
       "</div>"
      ],
      "text/plain": [
       "      short_text   body  business   html  money\n",
       "0           True  False     False  False  False\n",
       "1           True  False     False  False  False\n",
       "2          False   True     False   True   True\n",
       "3          False   True     False   True  False\n",
       "4          False  False     False   True  False\n",
       "...          ...    ...       ...    ...    ...\n",
       "5588       False  False     False  False  False\n",
       "5589       False  False      True  False   True\n",
       "5590       False   True     False  False  False\n",
       "5591       False  False     False  False  False\n",
       "5592       False  False     False  False  False\n",
       "\n",
       "[5593 rows x 5 columns]"
      ]
     },
     "execution_count": 62,
     "metadata": {},
     "output_type": "execute_result"
    }
   ],
   "source": [
    "X_train"
   ]
  },
  {
   "cell_type": "code",
   "execution_count": 63,
   "id": "a8ea6bf5-7101-4054-a1bd-916ed378d016",
   "metadata": {},
   "outputs": [
    {
     "data": {
      "text/plain": [
       "0       0\n",
       "1       0\n",
       "2       1\n",
       "3       0\n",
       "4       1\n",
       "       ..\n",
       "5588    0\n",
       "5589    1\n",
       "5590    0\n",
       "5591    0\n",
       "5592    0\n",
       "Name: spam, Length: 5593, dtype: int64"
      ]
     },
     "execution_count": 63,
     "metadata": {},
     "output_type": "execute_result"
    }
   ],
   "source": [
    "y_train"
   ]
  },
  {
   "cell_type": "code",
   "execution_count": 64,
   "id": "4eb33405-be03-4d8e-ab36-5a0419794ebb",
   "metadata": {},
   "outputs": [
    {
     "data": {
      "text/html": [
       "<div>\n",
       "<style scoped>\n",
       "    .dataframe tbody tr th:only-of-type {\n",
       "        vertical-align: middle;\n",
       "    }\n",
       "\n",
       "    .dataframe tbody tr th {\n",
       "        vertical-align: top;\n",
       "    }\n",
       "\n",
       "    .dataframe thead th {\n",
       "        text-align: right;\n",
       "    }\n",
       "</style>\n",
       "<table border=\"1\" class=\"dataframe\">\n",
       "  <thead>\n",
       "    <tr style=\"text-align: right;\">\n",
       "      <th></th>\n",
       "      <th>short_text</th>\n",
       "      <th>body</th>\n",
       "      <th>business</th>\n",
       "      <th>html</th>\n",
       "      <th>money</th>\n",
       "    </tr>\n",
       "  </thead>\n",
       "  <tbody>\n",
       "    <tr>\n",
       "      <th>0</th>\n",
       "      <td>False</td>\n",
       "      <td>False</td>\n",
       "      <td>False</td>\n",
       "      <td>False</td>\n",
       "      <td>False</td>\n",
       "    </tr>\n",
       "    <tr>\n",
       "      <th>1</th>\n",
       "      <td>False</td>\n",
       "      <td>False</td>\n",
       "      <td>False</td>\n",
       "      <td>False</td>\n",
       "      <td>False</td>\n",
       "    </tr>\n",
       "    <tr>\n",
       "      <th>2</th>\n",
       "      <td>False</td>\n",
       "      <td>False</td>\n",
       "      <td>False</td>\n",
       "      <td>False</td>\n",
       "      <td>False</td>\n",
       "    </tr>\n",
       "    <tr>\n",
       "      <th>3</th>\n",
       "      <td>False</td>\n",
       "      <td>False</td>\n",
       "      <td>False</td>\n",
       "      <td>False</td>\n",
       "      <td>False</td>\n",
       "    </tr>\n",
       "    <tr>\n",
       "      <th>4</th>\n",
       "      <td>False</td>\n",
       "      <td>False</td>\n",
       "      <td>False</td>\n",
       "      <td>False</td>\n",
       "      <td>False</td>\n",
       "    </tr>\n",
       "    <tr>\n",
       "      <th>...</th>\n",
       "      <td>...</td>\n",
       "      <td>...</td>\n",
       "      <td>...</td>\n",
       "      <td>...</td>\n",
       "      <td>...</td>\n",
       "    </tr>\n",
       "    <tr>\n",
       "      <th>2750</th>\n",
       "      <td>True</td>\n",
       "      <td>False</td>\n",
       "      <td>False</td>\n",
       "      <td>False</td>\n",
       "      <td>False</td>\n",
       "    </tr>\n",
       "    <tr>\n",
       "      <th>2751</th>\n",
       "      <td>False</td>\n",
       "      <td>False</td>\n",
       "      <td>False</td>\n",
       "      <td>False</td>\n",
       "      <td>False</td>\n",
       "    </tr>\n",
       "    <tr>\n",
       "      <th>2752</th>\n",
       "      <td>False</td>\n",
       "      <td>False</td>\n",
       "      <td>False</td>\n",
       "      <td>False</td>\n",
       "      <td>False</td>\n",
       "    </tr>\n",
       "    <tr>\n",
       "      <th>2753</th>\n",
       "      <td>False</td>\n",
       "      <td>False</td>\n",
       "      <td>False</td>\n",
       "      <td>False</td>\n",
       "      <td>False</td>\n",
       "    </tr>\n",
       "    <tr>\n",
       "      <th>2754</th>\n",
       "      <td>False</td>\n",
       "      <td>False</td>\n",
       "      <td>False</td>\n",
       "      <td>False</td>\n",
       "      <td>False</td>\n",
       "    </tr>\n",
       "  </tbody>\n",
       "</table>\n",
       "<p>2755 rows × 5 columns</p>\n",
       "</div>"
      ],
      "text/plain": [
       "      short_text   body  business   html  money\n",
       "0          False  False     False  False  False\n",
       "1          False  False     False  False  False\n",
       "2          False  False     False  False  False\n",
       "3          False  False     False  False  False\n",
       "4          False  False     False  False  False\n",
       "...          ...    ...       ...    ...    ...\n",
       "2750        True  False     False  False  False\n",
       "2751       False  False     False  False  False\n",
       "2752       False  False     False  False  False\n",
       "2753       False  False     False  False  False\n",
       "2754       False  False     False  False  False\n",
       "\n",
       "[2755 rows x 5 columns]"
      ]
     },
     "execution_count": 64,
     "metadata": {},
     "output_type": "execute_result"
    }
   ],
   "source": [
    "X_val"
   ]
  },
  {
   "cell_type": "code",
   "execution_count": 65,
   "id": "54d060e1-54fd-4b10-a7a7-5058431a8d11",
   "metadata": {},
   "outputs": [
    {
     "data": {
      "text/plain": [
       "0       0\n",
       "1       0\n",
       "2       0\n",
       "3       0\n",
       "4       0\n",
       "       ..\n",
       "2750    1\n",
       "2751    0\n",
       "2752    0\n",
       "2753    0\n",
       "2754    0\n",
       "Name: spam, Length: 2755, dtype: int64"
      ]
     },
     "execution_count": 65,
     "metadata": {},
     "output_type": "execute_result"
    }
   ],
   "source": [
    "y_val"
   ]
  },
  {
   "cell_type": "markdown",
   "id": "8d1c3d78-322a-4e0d-955e-23503bcbf58e",
   "metadata": {},
   "source": [
    "#### 6.3 Use LogisticRegression to train a model"
   ]
  },
  {
   "cell_type": "code",
   "execution_count": 66,
   "id": "67a8adec-e648-44f0-8003-dcd27df56148",
   "metadata": {},
   "outputs": [],
   "source": [
    "from sklearn.linear_model import LogisticRegression\n",
    "\n",
    "clf = LogisticRegression(random_state=0).fit(X_train, y_train)"
   ]
  },
  {
   "cell_type": "markdown",
   "id": "44eba4f6-392b-49df-8c0c-0ac747fdf977",
   "metadata": {},
   "source": [
    "#### 6.4 How does the model predict?"
   ]
  },
  {
   "cell_type": "code",
   "execution_count": 67,
   "id": "cdea93fb-5ba5-438b-b4d2-ca405f97eb05",
   "metadata": {},
   "outputs": [
    {
     "name": "stdout",
     "output_type": "stream",
     "text": [
      "Classes: [0 1]\n",
      "Features: 5\n",
      "Coef: [[-1.26397282  1.19517535  0.56136658  0.98459698  1.05689114]]\n",
      "intercept: [-1.91835065]\n"
     ]
    }
   ],
   "source": [
    "print('Classes:', clf.classes_)\n",
    "print('Features:', clf.n_features_in_)\n",
    "print('Coef:', clf.coef_)\n",
    "print('intercept:', clf.intercept_)\n",
    "\n",
    "def predict_with_formula(feature):\n",
    "    print('-' * 50)\n",
    "    print('The feature is', feature)\n",
    "    ans = 0\n",
    "    formula_x, formula_feature = [], []\n",
    "    for i in range(clf.n_features_in_):\n",
    "        formula_x.append('x' + str(i) + ' * ' + str(round(clf.coef_[0, i], 2)))\n",
    "        formula_feature.append(str(feature[i]) + ' * ' + str(round(clf.coef_[0, i], 2)))\n",
    "        ans += feature[i] * round(clf.coef_[0, i], 2)\n",
    "    \n",
    "    intercept = round(clf.intercept_[0], 2)\n",
    "    ans += intercept\n",
    "\n",
    "    if intercept > 0:\n",
    "        intercept_str = '+ ' + str(intercept)\n",
    "    else:\n",
    "        intercept_str = '- ' + str(intercept)[1:]\n",
    "\n",
    "    print('  ', ' + '.join(formula_x), intercept_str)\n",
    "    print('= ', ' + '.join(formula_feature), intercept_str)\n",
    "    if ans >= 0:\n",
    "        print('= ', str(ans), '>', 0)\n",
    "        print('= ', 'Spam')\n",
    "        return 1\n",
    "    else:\n",
    "        print('= ', str(ans), '<', 0)\n",
    "        print('= ', 'Ham')\n",
    "        return 0"
   ]
  },
  {
   "cell_type": "code",
   "execution_count": 68,
   "id": "5e3bd80f-e44e-4b81-a0c1-df9c19e34fc9",
   "metadata": {},
   "outputs": [
    {
     "name": "stdout",
     "output_type": "stream",
     "text": [
      "--------------------------------------------------\n",
      "The feature is [0, 0, 0, 0, 0]\n",
      "   x0 * -1.26 + x1 * 1.2 + x2 * 0.56 + x3 * 0.98 + x4 * 1.06 - 1.92\n",
      "=  0 * -1.26 + 0 * 1.2 + 0 * 0.56 + 0 * 0.98 + 0 * 1.06 - 1.92\n",
      "=  -1.92 < 0\n",
      "=  Ham\n",
      "--------------------------------------------------\n",
      "The feature is [1, 0, 0, 0, 0]\n",
      "   x0 * -1.26 + x1 * 1.2 + x2 * 0.56 + x3 * 0.98 + x4 * 1.06 - 1.92\n",
      "=  1 * -1.26 + 0 * 1.2 + 0 * 0.56 + 0 * 0.98 + 0 * 1.06 - 1.92\n",
      "=  -3.1799999999999997 < 0\n",
      "=  Ham\n",
      "--------------------------------------------------\n",
      "The feature is [1, 0, 1, 1, 1]\n",
      "   x0 * -1.26 + x1 * 1.2 + x2 * 0.56 + x3 * 0.98 + x4 * 1.06 - 1.92\n",
      "=  1 * -1.26 + 0 * 1.2 + 1 * 0.56 + 1 * 0.98 + 1 * 1.06 - 1.92\n",
      "=  -0.5799999999999998 < 0\n",
      "=  Ham\n",
      "--------------------------------------------------\n",
      "The feature is [0, 1, 0, 0, 1]\n",
      "   x0 * -1.26 + x1 * 1.2 + x2 * 0.56 + x3 * 0.98 + x4 * 1.06 - 1.92\n",
      "=  0 * -1.26 + 1 * 1.2 + 0 * 0.56 + 0 * 0.98 + 1 * 1.06 - 1.92\n",
      "=  0.33999999999999986 > 0\n",
      "=  Spam\n",
      "--------------------------------------------------\n",
      "The feature is [0, 1, 1, 1, 1]\n",
      "   x0 * -1.26 + x1 * 1.2 + x2 * 0.56 + x3 * 0.98 + x4 * 1.06 - 1.92\n",
      "=  0 * -1.26 + 1 * 1.2 + 1 * 0.56 + 1 * 0.98 + 1 * 1.06 - 1.92\n",
      "=  1.8800000000000003 > 0\n",
      "=  Spam\n",
      "--------------------------------------------------\n",
      "The feature is [1, 1, 1, 1, 1]\n",
      "   x0 * -1.26 + x1 * 1.2 + x2 * 0.56 + x3 * 0.98 + x4 * 1.06 - 1.92\n",
      "=  1 * -1.26 + 1 * 1.2 + 1 * 0.56 + 1 * 0.98 + 1 * 1.06 - 1.92\n",
      "=  0.6200000000000001 > 0\n",
      "=  Spam\n"
     ]
    },
    {
     "data": {
      "text/plain": [
       "[0, 0, 0, 1, 1, 1]"
      ]
     },
     "execution_count": 68,
     "metadata": {},
     "output_type": "execute_result"
    }
   ],
   "source": [
    "# play with it to see whether the model predicts according to the formula above\n",
    "features = [\n",
    "    [0, 0, 0, 0, 0], \n",
    "    [1, 0, 0, 0, 0], \n",
    "    [1, 0, 1, 1, 1], \n",
    "    [0, 1, 0, 0, 1], \n",
    "    [0, 1, 1, 1, 1],\n",
    "    [1, 1, 1, 1, 1], \n",
    "]\n",
    "\n",
    "[predict_with_formula(x) for x in features]"
   ]
  },
  {
   "cell_type": "markdown",
   "id": "883d1a81-898b-4369-bc87-eac1219e05e7",
   "metadata": {},
   "source": [
    "## 7 Model Assessment"
   ]
  },
  {
   "cell_type": "markdown",
   "id": "6dae7a78-8994-4737-a73d-3dfbd756e233",
   "metadata": {},
   "source": [
    "#### 7.1 overall accuracy"
   ]
  },
  {
   "cell_type": "code",
   "execution_count": 69,
   "id": "1a76fb0f-cf03-44b7-a54b-2edaa7d72522",
   "metadata": {},
   "outputs": [
    {
     "data": {
      "text/plain": [
       "array([0, 0, 0, ..., 0, 0, 0])"
      ]
     },
     "execution_count": 69,
     "metadata": {},
     "output_type": "execute_result"
    }
   ],
   "source": [
    "clf.predict(X_val)"
   ]
  },
  {
   "cell_type": "code",
   "execution_count": 70,
   "id": "8a22e820-637a-4d58-89bf-538151189129",
   "metadata": {},
   "outputs": [
    {
     "name": "stdout",
     "output_type": "stream",
     "text": [
      "the overall accuracy: 0.8174228675136116\n"
     ]
    }
   ],
   "source": [
    "print(\"the overall accuracy:\", clf.score(X_val, y_val))"
   ]
  },
  {
   "cell_type": "markdown",
   "id": "07f234a8-8abc-4e16-8f68-cbf953f8ef0a",
   "metadata": {},
   "source": [
    "#### 7.2 Confusion Matrix"
   ]
  },
  {
   "cell_type": "markdown",
   "id": "1a16c0b9-dabf-48a8-aab7-c5a37b8cddbb",
   "metadata": {},
   "source": [
    "Confusion Matrix: to see if model predict all the samples to be `ham` (will still get an good accuracy of (1887+160)/(1887+160+343+365) = 74%)"
   ]
  },
  {
   "cell_type": "code",
   "execution_count": 71,
   "id": "34b948d7-aaa9-488c-b9da-05bf5bf3c893",
   "metadata": {},
   "outputs": [
    {
     "data": {
      "text/plain": [
       "<sklearn.metrics._plot.confusion_matrix.ConfusionMatrixDisplay at 0x14b9004c0>"
      ]
     },
     "execution_count": 71,
     "metadata": {},
     "output_type": "execute_result"
    },
    {
     "data": {
      "image/png": "[encoded data removed]",
      "text/plain": [
       "<Figure size 432x288 with 2 Axes>"
      ]
     },
     "metadata": {
      "needs_background": "light"
     },
     "output_type": "display_data"
    }
   ],
   "source": [
    "from sklearn.metrics import confusion_matrix, ConfusionMatrixDisplay\n",
    "\n",
    "\n",
    "cm = confusion_matrix(y_val, clf.predict(X_val), labels=clf.classes_)\n",
    "disp = ConfusionMatrixDisplay(confusion_matrix=cm,\n",
    "                              display_labels=clf.classes_)\n",
    "disp.plot()"
   ]
  },
  {
   "cell_type": "markdown",
   "id": "6e76f84b-7d4a-4d7f-8a54-0af6dfb1a5b8",
   "metadata": {},
   "source": [
    "#### 7.3 ROC, AUC"
   ]
  },
  {
   "cell_type": "markdown",
   "id": "b3f1b7c1-438b-4489-9e41-a014d822cfb9",
   "metadata": {},
   "source": [
    "`ROC` curve evaluate the model performance with difference `threshold` (instead of `0`)\n",
    "\n",
    "`AUC`: 0.5: random guess, 0.85: acceptable, 1: perfect"
   ]
  },
  {
   "cell_type": "code",
   "execution_count": 72,
   "id": "7968d692-86f3-4a4a-840c-7b18ee458694",
   "metadata": {},
   "outputs": [
    {
     "name": "stderr",
     "output_type": "stream",
     "text": [
      "/Users/jinhengxu/opt/anaconda3/lib/python3.9/site-packages/sklearn/utils/deprecation.py:87: FutureWarning: Function plot_roc_curve is deprecated; Function :func:`plot_roc_curve` is deprecated in 1.0 and will be removed in 1.2. Use one of the class methods: :meth:`sklearn.metrics.RocCurveDisplay.from_predictions` or :meth:`sklearn.metrics.RocCurveDisplay.from_estimator`.\n",
      "  warnings.warn(msg, category=FutureWarning)\n"
     ]
    },
    {
     "data": {
      "image/png": "[encoded data removed]",
      "text/plain": [
       "<Figure size 432x288 with 1 Axes>"
      ]
     },
     "metadata": {
      "needs_background": "light"
     },
     "output_type": "display_data"
    }
   ],
   "source": [
    "import matplotlib.pyplot as plt\n",
    "from sklearn import metrics\n",
    "metrics.plot_roc_curve(clf, X_val, y_val) \n",
    "plt.show()"
   ]
  },
  {
   "cell_type": "markdown",
   "id": "d4895e36-a0ed-4c20-95be-a392e5af2bcf",
   "metadata": {},
   "source": [
    "## Save the data for the next lab\n",
    "\n",
    "Run the cell below to save `training set` and `validation set`, which will be used as the input data for the next lab."
   ]
  },
  {
   "cell_type": "code",
   "execution_count": 73,
   "id": "ea1a1ea7",
   "metadata": {},
   "outputs": [],
   "source": [
    "import numpy as np\n",
    "\n",
    "np.save(\"X_train.npy\", X_train.to_numpy().astype(np.float32))\n",
    "np.save(\"y_train.npy\", y_train.to_numpy().astype(np.int64))\n",
    "\n",
    "np.save(\"X_val.npy\", X_val.to_numpy().astype(np.float32))\n",
    "np.save(\"y_val.npy\", y_val.to_numpy().astype(np.int64))"
   ]
  }
 ],
 "metadata": {
  "kernelspec": {
   "display_name": "Python 3.9.12 ('base')",
   "language": "python",
   "name": "python3"
  },
  "language_info": {
   "codemirror_mode": {
    "name": "ipython",
    "version": 3
   },
   "file_extension": ".py",
   "mimetype": "text/x-python",
   "name": "python",
   "nbconvert_exporter": "python",
   "pygments_lexer": "ipython3",
   "version": "3.9.12"
  },
  "vscode": {
   "interpreter": {
    "hash": "d8fcee15318561c421fd029289997adde12df0a6deb462b29cf55fa6694a6d5b"
   }
  }
 },
 "nbformat": 4,
 "nbformat_minor": 5
}
